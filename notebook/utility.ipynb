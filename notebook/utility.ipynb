{
 "cells": [
  {
   "cell_type": "code",
   "execution_count": 1,
   "metadata": {},
   "outputs": [
    {
     "name": "stdout",
     "output_type": "stream",
     "text": [
      "/roberto/davide/temporal_analysis/notebook..\n"
     ]
    }
   ],
   "source": [
    "import os\n",
    "print(os.getcwd()+\"..\")\n",
    "import pandas as pd\n",
    "import numpy as np\n",
    "import time\n",
    "import datetime"
   ]
  },
  {
   "cell_type": "code",
   "execution_count": 8,
   "metadata": {},
   "outputs": [
    {
     "name": "stdout",
     "output_type": "stream",
     "text": [
      "entire_graph.dat\r"
     ]
    }
   ],
   "source": [
    "cwd = \"/roberto/davide/dataset/temporal/as-733/\"\n",
    "outfile = cwd + \"entire_graph.dat\"\n",
    "with open(outfile, 'w') as of:\n",
    "    i = 1\n",
    "    for filename in sorted(os.listdir(cwd)):\n",
    "        print(filename + \"\\r\", end=\"\")\n",
    "        if filename.endswith(\".txt\"):\n",
    "            with open(os.path.join(cwd, filename), 'r') as f:\n",
    "                for line in f:\n",
    "                    if not line.startswith(\" \") and not line.startswith(\"#\"):\n",
    "                        nodes = line.split()\n",
    "                        of.write(nodes[0] + \" \" + nodes[1] + \" \" + str(i) + \"\\n\")\n",
    "        i = i+1\n",
    "\n"
   ]
  },
  {
   "cell_type": "code",
   "execution_count": 3,
   "metadata": {},
   "outputs": [
    {
     "name": "stdout",
     "output_type": "stream",
     "text": [
      "1388504398\n"
     ]
    }
   ],
   "source": [
    "s = \"2013-12-31 16:39:58\"\n",
    "print(str(int(time.mktime(datetime.datetime.strptime(s, \"%Y-%m-%d %H:%M:%S\").timetuple()))))"
   ]
  },
  {
   "cell_type": "code",
   "execution_count": 4,
   "metadata": {},
   "outputs": [],
   "source": [
    "cwd = \"/roberto/davide/dataset/temporal/\"\n",
    "outfile = cwd + \"reddit.dat\"\n",
    "infile = cwd + \"soc-redditHyperlinks-title.tsv\"\n",
    "with open(infile, 'r') as inf: \n",
    "    with open(outfile, 'a') as of:\n",
    "        inf.readline() # discard the first line\n",
    "        list_v = []\n",
    "        list_u = []\n",
    "        timestamps = []\n",
    "        for line in inf: \n",
    "            fields = line.split(\"\\t\")\n",
    "            list_v.append(fields[0])\n",
    "            list_u.append(fields[1])\n",
    "            timestamps.append(str(int(time.mktime(datetime.datetime.strptime(fields[3], \"%Y-%m-%d %H:%M:%S\").timetuple()))))\n",
    "\n",
    "        all_vertices = list_v + list_u\n",
    "\n",
    "        d = dict([(y, x+1) for x,y in enumerate(sorted(set(all_vertices)))])\n",
    "\n",
    "        vertex_v = [d[x] for x in list_v]\n",
    "        vertex_u = [d[x] for x in list_u]\n",
    "\n",
    "        for v, u, t in zip(vertex_v, vertex_u, timestamps):\n",
    "            of.write(str(v) + \" \" + str(u) + \" \" + str(t) + \"\\n\")\n",
    "\n",
    "\n",
    "\n",
    "\n"
   ]
  }
 ],
 "metadata": {
  "kernelspec": {
   "display_name": "jupy",
   "language": "python",
   "name": "python3"
  },
  "language_info": {
   "codemirror_mode": {
    "name": "ipython",
    "version": 3
   },
   "file_extension": ".py",
   "mimetype": "text/x-python",
   "name": "python",
   "nbconvert_exporter": "python",
   "pygments_lexer": "ipython3",
   "version": "3.11.1"
  },
  "orig_nbformat": 4
 },
 "nbformat": 4,
 "nbformat_minor": 2
}
